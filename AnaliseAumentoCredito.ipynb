{
 "cells": [
  {
   "cell_type": "markdown",
   "id": "47f2aed9-e017-4f5d-8e07-996ce11e0dd0",
   "metadata": {},
   "source": [
    "# Aumento Limite Clientes Tauste Pay"
   ]
  },
  {
   "cell_type": "markdown",
   "id": "75b727b3-2429-4070-b44e-ba84469d4688",
   "metadata": {
    "jp-MarkdownHeadingCollapsed": true,
    "tags": []
   },
   "source": [
    "## Definição de Parâmetros"
   ]
  },
  {
   "cell_type": "code",
   "execution_count": 1,
   "id": "acd8804a-f244-4b09-9267-15b55959ccce",
   "metadata": {},
   "outputs": [],
   "source": [
    "data_bases = '2022-05-28' #yyyy-mm-dd\n",
    "dias_cadastro = 180 #Quantidade de dias após cadasto para considerar cliente\n",
    "dias_limite_fatura = 180 #Quantidade de dias para corte das faturas consideradas.\n",
    "dias_alt_lim = 90 #Quantidade de dias desde a última alteração de limite\n",
    "perc_gast_lim = 30 #Percentual de uso do limite para considerar cliente\n",
    "tolerancia_dias_pgto = 10 #Pode pagar até 10 dias depois sem ser desconsiderado da base\n",
    "tolerancia_perc_pgto = 2 #Pode pagar até 2% a menos da fatura sem ser desconsiderado da base\n",
    "tolerancia_vlr_pgto = 10 #Pode pagar até R$10,00 a menos da fatura sem ser desconsiderado da base\n",
    "qnt_max_fat = 6 #Quantidade máxima de faturas para serem consideradas\n",
    "teto_lim = 4000 #Valor máximo de limite disponível\n",
    "faixas_acrescimo = [ #   Mínimo -- Máximo -- Percentual de Acréscimo do Limite\n",
    "    [0,1000,50],\n",
    "    [1000,2000,40],\n",
    "    [2000,3000,30],\n",
    "    [3000,4000,20]\n",
    "] \n",
    "\n",
    "pag_fat = 'base/01.05.01___Pagamentos_de_Faturas_por_Data.csv'\n",
    "faturas = 'base/01.06.01___Faturas_por_Data_de_Corte_ou_Vencimento.csv'\n",
    "clientes = 'base/01.02.01___Clientes_Cadastrados.csv'\n",
    "alt_lim = 'base/01.01.07___Ocorrências_de_Alteração_de_Limite.csv'\n",
    "\n",
    "filiais = {\n",
    "    'LOJA SISTEMA':'000-MIAADM',\n",
    "    'TAUSTE SUPERMERCADOS REPUBLICA':'001-MIAREP',\n",
    "    'TAUSTE SUPERMERCADOS TIRADENTES':'002-MIATIR',\n",
    "    'TAUSTE SUPERMERCADOS RIO BRANCO':'003-BRURBR',\n",
    "    'TAUSTE SUPERMERCADOS CAMPOLIM':'004-SOCCAM',\n",
    "    'TAUSTE SUPERMERCADOS ITAVUVU':'005-SOCITA',\n",
    "    'TAUSTE SUPERMERCADOS OZANAN':'006-JUNOZA',\n",
    "    'TAUSTE SUPERMERCADOS DUQUE':'007-BRUDUQ',\n",
    "    'TAUSTE SUPERMERCADOS GENERAL':'008-SOCGEN'\n",
    "}"
   ]
  },
  {
   "cell_type": "markdown",
   "id": "c0e8d15b-8c26-4817-8707-b50d74d8b185",
   "metadata": {
    "jp-MarkdownHeadingCollapsed": true,
    "tags": []
   },
   "source": [
    "## Preparação dos Dados"
   ]
  },
  {
   "cell_type": "markdown",
   "id": "ed13ff80-7e04-4c8b-a76e-2a4d3d42a3bc",
   "metadata": {
    "jp-MarkdownHeadingCollapsed": true,
    "tags": []
   },
   "source": [
    "#### Funções Acessórias"
   ]
  },
  {
   "cell_type": "code",
   "execution_count": 2,
   "id": "427d9634-5c2e-43da-be7a-37cb29117c2a",
   "metadata": {},
   "outputs": [],
   "source": [
    "import pandas as pd\n",
    "import numpy as np"
   ]
  },
  {
   "cell_type": "code",
   "execution_count": 3,
   "id": "43be3abb-b8c9-4559-8d5a-b4fa731cb39d",
   "metadata": {},
   "outputs": [],
   "source": [
    "dt_corte_venc= pd.to_datetime(data_bases)-np.timedelta64(dias_limite_fatura,'D')\n",
    "\n",
    "def format_header(df):\n",
    "    df = df.rename(\n",
    "            lambda x: (\n",
    "                x\n",
    "                .replace('Ó','O')\n",
    "                .replace('Ã','A')\n",
    "                .replace('Ç','C')\n",
    "                .replace('Á','A')\n",
    "                .replace('Ú','U')\n",
    "                .replace('É','E')\n",
    "                .replace('Ê','E')\n",
    "                .replace('Í','I')\n",
    "                .replace(' ','_')\n",
    "            ), axis='columns'\n",
    "    )\n",
    "    return df\n",
    "def convert_currency_value(df,cols):\n",
    "    df[cols] = df[cols].apply(lambda x: (\n",
    "            x\n",
    "            .str.replace('R\\$ ', '', regex=True)\n",
    "            .str.replace('.', '', regex=False)  # Encoding: cp1252\n",
    "            .str.replace(',', '.', regex=False) # Encoding: cp1252\n",
    "            #.str.replace(',', '', regex=False) # Encoding: Padrão\n",
    "            .astype(float)\n",
    "        )\n",
    "     )\n",
    "    return df\n",
    "def str_to_datetime(df,cols):\n",
    "    df[cols] = df[cols].apply(lambda x: pd.to_datetime(x, format='%d/%m/%Y'))\n",
    "    return df\n",
    "def nome_filial(df,cols):\n",
    "    df['filial'] = df[cols].apply(lambda x: filiais[x])\n",
    "    return df\n",
    "def statusPgtoFat(df):\n",
    "    def converter(vr_pago,vr_total):\n",
    "        if pd.isna(vr_pago):\n",
    "            return \"NÃO PAGA\"\n",
    "        elif np.isclose(vr_pago,vr_total):\n",
    "            return \"PAGA\"\n",
    "        elif vr_pago > vr_total:\n",
    "            return \"PAGO A MAIS\"\n",
    "        elif (vr_pago >= (vr_total - tolerancia_vlr_pgto)) and (vr_pago >= (vr_total * (1 - (tolerancia_perc_pgto/100)))):\n",
    "            return \"TOLERANCIA\"                                            \n",
    "        else:\n",
    "            return \"PGTO PARCIAL\"\n",
    "    df['status_pgto'] = df.apply(lambda x: converter(x.valor_pago,x.valor_total),axis='columns')\n",
    "    return df\n",
    "def statusVencFat(df):\n",
    "    def converter(dt_pgto,dt_venc):\n",
    "        diffDays = (dt_pgto - dt_venc)/np.timedelta64(1,'D')\n",
    "        if diffDays <= 0:\n",
    "            return \"NO PRAZO\"\n",
    "        elif diffDays > 0 and diffDays <= tolerancia_dias_pgto :\n",
    "            return \"ATRASADA\"\n",
    "        else:\n",
    "            return \"VENCIDA\"\n",
    "    df['status_venc'] = df.apply(lambda x:converter(x.data_pagamento,x.data_vencimento),axis='columns')\n",
    "    return df\n",
    "def calc_acrescimo(valor):\n",
    "    for faixa in faixas_acrescimo:\n",
    "        if valor >= faixa[0] and valor < faixa[1]:\n",
    "            return faixa[2]\n",
    "    return faixas_acrescimo[-1][2]\n",
    "def sugerirNovoLim(df):\n",
    "    def converter(vr_limite):\n",
    "        sugestao = vr_limite * (1 + (calc_acrescimo(vr_limite)/100))\n",
    "        if vr_limite >= teto_lim:\n",
    "            return vr_limite\n",
    "        if sugestao > teto_lim:\n",
    "            return float(teto_lim)\n",
    "        else:\n",
    "            return round(sugestao,2)\n",
    "    df['aumento_lim'] = df['vlr_limite'].apply(lambda x: converter(x))\n",
    "    return df"
   ]
  },
  {
   "cell_type": "markdown",
   "id": "64559a97-6456-44b2-a6e4-60631a4ba734",
   "metadata": {
    "jp-MarkdownHeadingCollapsed": true,
    "tags": []
   },
   "source": [
    "#### Tratamento Base Pagamentos das faturas "
   ]
  },
  {
   "cell_type": "code",
   "execution_count": 4,
   "id": "8e0b52b0-1003-45ac-bcbf-806bb39af174",
   "metadata": {
    "tags": []
   },
   "outputs": [],
   "source": [
    "def tratamento_pag_fat(file_name):\n",
    "    df = (\n",
    "        pd.read_csv(file_name,sep=',',encoding='cp1252')\n",
    "        .pipe(format_header)\n",
    "        .rename(str.lower,axis='columns')\n",
    "        .dropna(axis='rows',how='all',subset='cod_conta')\n",
    "        .pipe(nome_filial, 'nome_fantasia')\n",
    "        .pipe(str_to_datetime, ['data_pagamento'])\n",
    "        .pipe(convert_currency_value, ['valor_pago'])\n",
    "        .assign(\n",
    "            cod_conta=lambda x: x.cod_conta.astype(int),\n",
    "            cod_fatura=lambda x: x.cod_fatura.astype(int),\n",
    "        )\n",
    "        .loc[lambda x: x.status != 'CANCELADO']\n",
    "        .groupby(by='cod_fatura',axis='rows').agg({'data_pagamento': 'max','valor_pago': 'sum'}).reset_index()\n",
    "    )\n",
    "    return df"
   ]
  },
  {
   "cell_type": "markdown",
   "id": "6e7c3e86-db5d-460c-ba23-456116c3464f",
   "metadata": {
    "jp-MarkdownHeadingCollapsed": true,
    "tags": []
   },
   "source": [
    "#### Tratamento Base Faturas "
   ]
  },
  {
   "cell_type": "code",
   "execution_count": 5,
   "id": "33350b49-95e3-4595-ab2d-b237728faa93",
   "metadata": {},
   "outputs": [],
   "source": [
    "def tratamento_faturas(file_name):\n",
    "    to_drop = [\n",
    "        'produto',\n",
    "        'nome',\n",
    "        'cpf',  \n",
    "        'telefone_celular',\n",
    "        'data_corte'\n",
    "    ]\n",
    "    df = (\n",
    "        pd.read_csv(file_name,sep=',',encoding='cp1252')\n",
    "        .pipe(format_header)\n",
    "        .rename(str.lower,axis='columns')\n",
    "        .rename(columns={'codigo_conta':'cod_conta','codigo_fatura':'cod_fatura'})\n",
    "        .dropna(axis='rows',how='all',subset='cod_conta')\n",
    "        .pipe(convert_currency_value, ['principal','encargos','encargos_rolados','taxas','taxas_roladas','valor_total'])\n",
    "        .pipe(str_to_datetime, ['data_vencimento'])\n",
    "        .assign(\n",
    "            cod_conta=lambda x: x.cod_conta.astype(int),\n",
    "            cod_fatura=lambda x: x.cod_fatura.astype(int)\n",
    "        )\n",
    "        .drop(to_drop,axis='columns')\n",
    "    )\n",
    "    return df"
   ]
  },
  {
   "cell_type": "markdown",
   "id": "aa8daecf-4fcb-41e7-9218-b4e71ccc0e7d",
   "metadata": {
    "jp-MarkdownHeadingCollapsed": true,
    "tags": []
   },
   "source": [
    "#### Tratamento Base Clientes"
   ]
  },
  {
   "cell_type": "code",
   "execution_count": 6,
   "id": "7d8dc8f7-f784-4c85-bfc0-01f8d2ab1b3c",
   "metadata": {},
   "outputs": [],
   "source": [
    "def tratamento_clientes(file_name):\n",
    "    to_drop = [\n",
    "        'produto',\n",
    "        'nome',\n",
    "        'cpf',\n",
    "        'cnpj',\n",
    "        'rg',\n",
    "        'e-mail',\n",
    "        'telefone_resid.',\n",
    "        'origem_comercial',\n",
    "        'usuario_cadastro',\n",
    "        'telefone_celular',\n",
    "        'telefone_comercial',\n",
    "        'logradouro',\n",
    "        'numero',\n",
    "        'complemento',\n",
    "        'bairro',\n",
    "        'localidade',\n",
    "        'uf',\n",
    "        'cep',\n",
    "        'data_cadastro',\n",
    "        'data_nascimento',\n",
    "        'dia_corte',\n",
    "        'dia_venc.'\n",
    "    ]\n",
    "    df = (\n",
    "        pd.read_csv(file_name,sep=',',encoding='cp1252')\n",
    "        .pipe(format_header)\n",
    "        .rename(str.lower,axis='columns')\n",
    "        .dropna(axis='rows',how='all',subset='cod_conta')\n",
    "        .pipe(convert_currency_value, ['vlr_limite'])\n",
    "        .pipe(str_to_datetime, ['data_cadastro','data_nascimento'])\n",
    "        .assign(\n",
    "            dias_cadastro=lambda x: ((pd.to_datetime(data_bases) - x.data_cadastro) / np.timedelta64(1,'D')).astype(int),\n",
    "            idade=lambda x: ((pd.to_datetime(data_bases) - x.data_nascimento) / np.timedelta64(1,'Y')).astype(int)\n",
    "        )\n",
    "        .drop(to_drop,axis='columns')\n",
    "    )\n",
    "    return df"
   ]
  },
  {
   "cell_type": "markdown",
   "id": "b889e365-ec26-4404-8b16-6fa49d616a18",
   "metadata": {
    "jp-MarkdownHeadingCollapsed": true,
    "tags": []
   },
   "source": [
    "#### Tratamento Base Limite"
   ]
  },
  {
   "cell_type": "code",
   "execution_count": 7,
   "id": "07c0ff6e-5a8b-4ce5-aa20-56d61fbeb3f7",
   "metadata": {},
   "outputs": [],
   "source": [
    "def tratamento_alt_lim(file_name):\n",
    "    to_drop = [\n",
    "        'produto',\n",
    "        'nome',\n",
    "        'cpf',\n",
    "        'login_usuario',\n",
    "        'telefone_residencial',\n",
    "        'origem_comercial',\n",
    "        'telefone_celular',\n",
    "        'logradouro',\n",
    "        'numero',\n",
    "        'complemento',\n",
    "        'bairro',\n",
    "        'cidade',\n",
    "        'uf',\n",
    "        'cep',\n",
    "        'data_cadastro',\n",
    "        'data_ocorrencia'\n",
    "    ]\n",
    "    df = (\n",
    "        pd.read_csv(file_name,sep=',',encoding='cp1252')\n",
    "        .pipe(format_header)\n",
    "        .rename(str.lower,axis='columns')\n",
    "        .rename(columns={'cod_cliente':'cod_conta'})\n",
    "        .dropna(axis='rows',how='all',subset='cod_conta')\n",
    "        .pipe(convert_currency_value, ['valor_renda','limite_atual','saldo_devedor','saldo_disponivel'])\n",
    "        .pipe(str_to_datetime, ['data_ocorrencia'])\n",
    "        .assign(\n",
    "            dias_alt_lim=lambda x: ((pd.to_datetime(data_bases) - x.data_ocorrencia) / np.timedelta64(1,'D')).astype(int)\n",
    "        )\n",
    "        .drop(to_drop,axis='columns')\n",
    "        .loc[:,['cod_conta','dias_alt_lim']]\n",
    "    )\n",
    "    return df"
   ]
  },
  {
   "cell_type": "markdown",
   "id": "83eeaf95-573b-4e45-a0ac-c407b9ccb27b",
   "metadata": {
    "jp-MarkdownHeadingCollapsed": true,
    "tags": []
   },
   "source": [
    "### Junção de todas as bases e filtros"
   ]
  },
  {
   "cell_type": "code",
   "execution_count": 8,
   "id": "23e24bad-4fa5-4489-9b01-27c87f79a8f2",
   "metadata": {
    "tags": []
   },
   "outputs": [],
   "source": [
    "def criarBase():\n",
    "    df = (\n",
    "        pd.merge(\n",
    "            tratamento_faturas(faturas), \n",
    "            tratamento_pag_fat(pag_fat), \n",
    "            on='cod_fatura',\n",
    "            how='left',\n",
    "            validate='1:1'\n",
    "        )\n",
    "        .pipe(statusPgtoFat)\n",
    "        .pipe(statusVencFat)\n",
    "        .loc[\n",
    "            lambda x: \n",
    "            ((pd.to_datetime(data_bases) - x['data_vencimento'])/np.timedelta64(1,'D') > tolerancia_dias_pgto) | (x['status_pgto'] == 'PAGA') | (x['status_pgto'] == \"PAGO A MAIS\") \n",
    "        ] #Desconsidera faturas que ainda podem ser pagas (estão dentro da tolerância). Também para não impactar no cáluclo de gasto médio.\n",
    "        .assign(\n",
    "            seq_fat= lambda x:\n",
    "                x.sort_values(by=['data_vencimento'],ascending=False).groupby(['cod_conta'])['cod_fatura'].cumcount() + 1 #Adiciona contagem para as faturas de cada cliente \n",
    "        )\n",
    "        .loc[\n",
    "            lambda x:\n",
    "            (x['seq_fat'] <= qnt_max_fat) & (x['data_vencimento'] >= dt_corte_venc) #Considera apenas as 6 últimas faturas ou faturas que venceram após a data de corte definida no início\n",
    "        ]\n",
    "        .loc[\n",
    "            lambda x:\n",
    "            ~x['cod_conta'].isin(x.loc[\n",
    "                (x['status_venc'] == 'VENCIDA') | \n",
    "                (x['status_pgto'] == 'PGTO PARCIAL'),\n",
    "                'cod_conta'\n",
    "            ]) #Remove clientes que tiveram alguma fatura vencida ou paga parcialmente\n",
    "        ]\n",
    "        .groupby(by='cod_conta',axis='rows').agg({'valor_pago': 'sum','taxas':'sum','taxas_roladas':'sum','cod_fatura': 'count'}).reset_index()\n",
    "        .rename(columns={'cod_fatura':'qt_fatura'})\n",
    "        .assign(gasto_medio = lambda x: x.valor_pago/ x.qt_fatura) #Considera o valor pago pois clientes podem pagar faturas a mais com o objetivo de aumentar seu limite\n",
    "        .merge(\n",
    "            tratamento_clientes(clientes),\n",
    "            on='cod_conta',\n",
    "            how='left',\n",
    "            validate='1:1'\n",
    "        )\n",
    "        .assign(perc_gast_lim= lambda x:round((x.gasto_medio / x.vlr_limite) * 100,2))\n",
    "        .sort_values(by='perc_gast_lim',ascending=False)\n",
    "        .loc[\n",
    "            lambda x: \n",
    "            #(x.situacao ==  'ATIVO') &\n",
    "                # Avaliar remoção do filtro de clientes ATIVOS, pois podem ocorrer casos de clients bloqueados (+3 dias úteis de atraso)\n",
    "                # tais clientes ainda podem pagar a fatura mais recente dentro da tolerância\n",
    "            (x.dias_cadastro >= dias_cadastro) &\n",
    "            (x.perc_gast_lim >= perc_gast_lim)\n",
    "        ]\n",
    "        .sort_values('dias_cadastro',ascending=False)\n",
    "        .merge(\n",
    "            tratamento_alt_lim(alt_lim),\n",
    "            on='cod_conta',\n",
    "            how='left',\n",
    "            validate='1:1'\n",
    "        )\n",
    "        .loc[\n",
    "            lambda x:\n",
    "            (x.dias_alt_lim >= dias_alt_lim) | (x.dias_alt_lim.isnull())\n",
    "        ]\n",
    "        .pipe(sugerirNovoLim)\n",
    "        .sort_values('aumento_lim',ascending=False)\n",
    "    )\n",
    "    return df"
   ]
  },
  {
   "cell_type": "markdown",
   "id": "c2a88184-4bab-4f75-aa64-e6b466b78d5a",
   "metadata": {
    "jp-MarkdownHeadingCollapsed": true,
    "tags": []
   },
   "source": [
    "## Exportação"
   ]
  },
  {
   "cell_type": "code",
   "execution_count": 9,
   "id": "bfd32941-ca32-4fe9-926b-efef327fa799",
   "metadata": {},
   "outputs": [],
   "source": [
    "df = criarBase()"
   ]
  },
  {
   "cell_type": "code",
   "execution_count": 10,
   "id": "7fb04638-4a9f-48c0-9077-3e69aa2ff372",
   "metadata": {},
   "outputs": [],
   "source": [
    "def gerarExcel():\n",
    "    with pd.ExcelWriter('aumento_limite_final.xlsx') as writer:  \n",
    "        (\n",
    "            df\n",
    "            .sort_values('aumento_lim', ascending = False)\n",
    "            .to_excel(writer, sheet_name='Alteração Limte',index=False)\n",
    "        )\n",
    "    return\n",
    "\n",
    "def gerarCargaLimites():\n",
    "    (\n",
    "        df[['cod_conta','aumento_lim']]\n",
    "        .rename(columns = {'cod_conta':'IdConta','aumento_lim':'NovoLimite'})\n",
    "        .assign(NovoLimite = lambda x: (x.NovoLimite*100).astype(int).astype(str))\n",
    "        .to_csv('carga_atualizacao_limite.txt', sep=';',index=False)\n",
    "    )\n",
    "    return"
   ]
  },
  {
   "cell_type": "code",
   "execution_count": 11,
   "id": "15f40568-6b9b-49cf-8b1f-a4a467ea9f6f",
   "metadata": {},
   "outputs": [],
   "source": [
    "gerarCargaLimites()\n",
    "gerarExcel()"
   ]
  }
 ],
 "metadata": {
  "kernelspec": {
   "display_name": "Python 3 (ipykernel)",
   "language": "python",
   "name": "python3"
  },
  "language_info": {
   "codemirror_mode": {
    "name": "ipython",
    "version": 3
   },
   "file_extension": ".py",
   "mimetype": "text/x-python",
   "name": "python",
   "nbconvert_exporter": "python",
   "pygments_lexer": "ipython3",
   "version": "3.9.7"
  }
 },
 "nbformat": 4,
 "nbformat_minor": 5
}
